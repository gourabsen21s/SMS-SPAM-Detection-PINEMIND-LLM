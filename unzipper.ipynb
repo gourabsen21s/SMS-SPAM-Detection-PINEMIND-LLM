{
 "cells": [
  {
   "cell_type": "code",
   "execution_count": 1,
   "metadata": {},
   "outputs": [
    {
     "name": "stdout",
     "output_type": "stream",
     "text": [
      "✅ Unzipped to: /teamspace/studios/this_studio/models/355M\n"
     ]
    }
   ],
   "source": [
    "import zipfile\n",
    "import os\n",
    "\n",
    "zip_path = \"/teamspace/studios/this_studio/models/355M/model.ckpt.data-00000-of-00001.zip\"   # path to uploaded file\n",
    "extract_dir = \"/teamspace/studios/this_studio/models/355M\"  # where you want to extract\n",
    "\n",
    "os.makedirs(extract_dir, exist_ok=True)\n",
    "\n",
    "with zipfile.ZipFile(zip_path, 'r') as zip_ref:\n",
    "    zip_ref.extractall(extract_dir)\n",
    "\n",
    "print(\"✅ Unzipped to:\", extract_dir)\n"
   ]
  }
 ],
 "metadata": {
  "language_info": {
   "name": "python"
  }
 },
 "nbformat": 4,
 "nbformat_minor": 2
}
